{
 "cells": [
  {
   "cell_type": "code",
   "execution_count": 2,
   "id": "f3e7ccb4-b184-49f0-8dfb-9d3e7658d582",
   "metadata": {},
   "outputs": [
    {
     "name": "stdin",
     "output_type": "stream",
     "text": [
      "Enter the Size of array:  5\n"
     ]
    },
    {
     "name": "stdout",
     "output_type": "stream",
     "text": [
      "Enter the elements of the first array: \n"
     ]
    },
    {
     "name": "stdin",
     "output_type": "stream",
     "text": [
      " 2\n",
      " 3\n",
      " 4\n",
      " 5\n",
      " 6\n"
     ]
    },
    {
     "name": "stdout",
     "output_type": "stream",
     "text": [
      "Enter the elements of the second array: \n"
     ]
    },
    {
     "name": "stdin",
     "output_type": "stream",
     "text": [
      " 4\n",
      " 2\n",
      " 3\n",
      " 8\n",
      " 9\n"
     ]
    },
    {
     "name": "stdout",
     "output_type": "stream",
     "text": [
      "Multiplication of two 1D arrays is: [8, 6, 12, 40, 54]\n"
     ]
    }
   ],
   "source": [
    "arrSize = int(input(\"Enter the Size of array: \"))\n",
    "arr1 = []\n",
    "print(\"Enter the elements of the first array: \")\n",
    "for i in range(arrSize):\n",
    "    element1 = int(input())\n",
    "    arr1.append(element1)\n",
    "    \n",
    "arr2 = []\n",
    "print(\"Enter the elements of the second array: \")\n",
    "for i in range(arrSize):\n",
    "    element2 = int(input())\n",
    "    arr2.append(element2)\n",
    "\n",
    "mulArray = []\n",
    "for i in range(arrSize):\n",
    "    mulArray.append(arr1[i] * arr2[i])\n",
    "\n",
    "print(\"Multiplication of two 1D arrays is:\", mulArray)\n"
   ]
  },
  {
   "cell_type": "code",
   "execution_count": null,
   "id": "2d38cf0e-ccca-4bb6-8314-9a271b17b6b4",
   "metadata": {},
   "outputs": [],
   "source": []
  }
 ],
 "metadata": {
  "kernelspec": {
   "display_name": "Python 3 (ipykernel)",
   "language": "python",
   "name": "python3"
  },
  "language_info": {
   "codemirror_mode": {
    "name": "ipython",
    "version": 3
   },
   "file_extension": ".py",
   "mimetype": "text/x-python",
   "name": "python",
   "nbconvert_exporter": "python",
   "pygments_lexer": "ipython3",
   "version": "3.12.0"
  }
 },
 "nbformat": 4,
 "nbformat_minor": 5
}
