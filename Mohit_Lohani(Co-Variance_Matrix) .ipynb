{
 "cells": [
  {
   "cell_type": "code",
   "execution_count": 6,
   "id": "5d943edd-21ad-4b9c-a2e9-974899c46e67",
   "metadata": {},
   "outputs": [
    {
     "name": "stdout",
     "output_type": "stream",
     "text": [
      "mean_of_Height 144.8\n",
      "mean_of_Weight 71.45\n",
      "Variance_of_Height 424.06315789473683\n",
      "Variance_of_Weight 227.10263157894735\n",
      "Co_Variance_of_Height_Weight 229.30526315789476\n",
      "Standard Deviation of Heights: 20.592793834124034\n",
      "Standard Deviation of Weights:  15.069924737003412\n",
      "Covariance Matrix:\n",
      "[424.06315789473683, 229.30526315789476]\n",
      "[229.30526315789476, 227.10263157894735]\n"
     ]
    }
   ],
   "source": [
    "Height=[182,162,114,134,154,155,161,170,124,136,140,127,140,129,132,124,131,173,180,128]\n",
    "Weight=[78,82,58,61,74,108,81,90,67,58,64,50,74,58,60,54,59,92,83,78]\n",
    "mean_of_Height=(sum(Height)/len(Height))\n",
    "mean_of_Weight=(sum(Weight)/len(Weight))\n",
    "diff_Height = [mean_of_Height - h for h in Height]\n",
    "diff_Weight = [mean_of_Weight - w for w in Weight]\n",
    "Variance_of_Height=sum([d ** 2 for d in diff_Height]) / (len(Height) - 1)\n",
    "Variance_of_Weight=sum([m ** 2 for m in diff_Weight]) / (len(Weight)-1)\n",
    "Co_Variance_of_Height_Weight = sum([diff_Height[i] * diff_Weight[i] for i in range(len(Height))]) / (len(Height) - 1)\n",
    "std_dev_heights = (Variance_of_Height) ** 0.5\n",
    "std_dev_weights = (Variance_of_Weight) ** 0.5\n",
    "print(\"mean_of_Height\",mean_of_Height)\n",
    "print(\"mean_of_Weight\",mean_of_Weight)\n",
    "print(\"Variance_of_Height\",Variance_of_Height)\n",
    "print(\"Variance_of_Weight\",Variance_of_Weight)\n",
    "print(\"Co_Variance_of_Height_Weight\",Co_Variance_of_Height_Weight)\n",
    "print(\"Standard Deviation of Heights:\", std_dev_heights)\n",
    "print(\"Standard Deviation of Weights: \", std_dev_weights)\n",
    "cov_matrix = [\n",
    "    [Variance_of_Height, Co_Variance_of_Height_Weight],\n",
    "    [Co_Variance_of_Height_Weight,Variance_of_Weight]\n",
    "]\n",
    "print(\"Covariance Matrix:\")\n",
    "for row in cov_matrix:\n",
    "    print(row)"
   ]
  },
  {
   "cell_type": "code",
   "execution_count": null,
   "id": "0a7048f7-3919-459b-b562-3a8d2513b3b4",
   "metadata": {},
   "outputs": [],
   "source": []
  },
  {
   "cell_type": "code",
   "execution_count": null,
   "id": "e7c19472-7da4-43e5-994f-fc4252db7720",
   "metadata": {},
   "outputs": [],
   "source": []
  }
 ],
 "metadata": {
  "kernelspec": {
   "display_name": "Python 3 (ipykernel)",
   "language": "python",
   "name": "python3"
  },
  "language_info": {
   "codemirror_mode": {
    "name": "ipython",
    "version": 3
   },
   "file_extension": ".py",
   "mimetype": "text/x-python",
   "name": "python",
   "nbconvert_exporter": "python",
   "pygments_lexer": "ipython3",
   "version": "3.12.0"
  }
 },
 "nbformat": 4,
 "nbformat_minor": 5
}
