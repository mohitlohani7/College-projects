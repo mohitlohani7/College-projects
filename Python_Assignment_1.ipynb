{
 "cells": [
  {
   "cell_type": "code",
   "execution_count": 5,
   "id": "1fad848e-20e0-43a0-9ef7-b987bf3ccab9",
   "metadata": {},
   "outputs": [
    {
     "name": "stdout",
     "output_type": "stream",
     "text": [
      "Distance between points: 6.708203932499369\n"
     ]
    }
   ],
   "source": [
    "#1. Write a program to calculate the distance between two points.\n",
    "import math\n",
    "\n",
    "def calculate_distance(x1, y1, x2, y2):\n",
    "    return math.sqrt((x2 - x1)**2 + (y2 - y1)**2)\n",
    "\n",
    "distance = calculate_distance(4, 9, 7, 3)\n",
    "print(f\"Distance between points:\",distance)\n",
    "\n"
   ]
  },
  {
   "cell_type": "code",
   "execution_count": 10,
   "id": "c82e5f6c-b179-40e7-925e-638f05143607",
   "metadata": {},
   "outputs": [
    {
     "name": "stdout",
     "output_type": "stream",
     "text": [
      "Triangle area: 9.807522622966516\n"
     ]
    }
   ],
   "source": [
    "#2. Write a program to calculate the area of a triangle using Heron's formula.\n",
    "def calculate_triangle_area(a, b, c):\n",
    "    s = (a + b + c) / 2\n",
    "    return math.sqrt(s * (s - a) * (s - b) * (s - c))\n",
    "\n",
    "side_a, side_b, side_c = 5, 9, 5\n",
    "area = calculate_triangle_area(side_a, side_b, side_c)\n",
    "print(\"Triangle area:\",area)\n"
   ]
  },
  {
   "cell_type": "code",
   "execution_count": 19,
   "id": "b7423a36-4010-43c3-9fee-aeb65fa449db",
   "metadata": {},
   "outputs": [
    {
     "name": "stdout",
     "output_type": "stream",
     "text": [
      "Total bill amount: 472.5\n"
     ]
    }
   ],
   "source": [
    "#3. Write a program to calculate the bill amount for an item given its quantity sold, value, discount, and tax.Given a string s = \"1234\" and an integer n = 5678, concatenate them as a single string and then convert the result back to an integer. What is the final integer value?\n",
    "def calculate_bill_amount(item_value, quantity, discount_percent, tax_rate):\n",
    "    discounted_value = item_value * (1 - discount_percent / 100)\n",
    "    total_amount = discounted_value * quantity\n",
    "    tax_amount = total_amount * (tax_rate / 100)\n",
    "    final_amount = total_amount + tax_amount\n",
    "    return final_amount\n",
    "\n",
    "# Example usage:\n",
    "item_value = 100\n",
    "quantity_sold = 5\n",
    "discount = 10  # 10% discount\n",
    "tax = 5  # 5% tax\n",
    "bill_total = calculate_bill_amount(item_value, quantity_sold, discount, tax)\n",
    "print(\"Total bill amount:\", bill_total)\n"
   ]
  },
  {
   "cell_type": "code",
   "execution_count": 16,
   "id": "fc6d15a1-8d88-41fc-a8f4-117e61beada0",
   "metadata": {},
   "outputs": [
    {
     "name": "stdout",
     "output_type": "stream",
     "text": [
      "After swapping: a = 3, b = 7\n"
     ]
    }
   ],
   "source": [
    "#4.Given two variables, a = 7 and b = 3, write a Python code snippet to swap their values without using a temporary variable. What will be the values of a and b after the swap?\n",
    "a, b = 7, 3\n",
    "a, b = b, a\n",
    "print(f\"After swapping: a = {a}, b = {b}\")"
   ]
  },
  {
   "cell_type": "code",
   "execution_count": 8,
   "id": "53e6b480-7c8b-4b45-ba0a-282e97d56464",
   "metadata": {},
   "outputs": [
    {
     "name": "stdout",
     "output_type": "stream",
     "text": [
      "Simple Calculator\n"
     ]
    },
    {
     "name": "stdin",
     "output_type": "stream",
     "text": [
      "Enter first number:  10\n",
      "Enter operator (+, -, *, /):  +\n",
      "Enter second number:  25\n"
     ]
    },
    {
     "name": "stdout",
     "output_type": "stream",
     "text": [
      "Result: 35.0\n"
     ]
    }
   ],
   "source": [
    "#6. Write a simple basic calculator program in Python Direction?\n",
    "def calculator():\n",
    "    print(\"Simple Calculator\")\n",
    "    num1 = float(input(\"Enter first number: \"))\n",
    "    operator = input(\"Enter operator (+, -, *, /): \")\n",
    "    num2 = float(input(\"Enter second number: \"))\n",
    "\n",
    "    if operator == \"+\":\n",
    "        result = num1 + num2\n",
    "    elif operator == \"-\":\n",
    "        result = num1 - num2\n",
    "    elif operator == \"*\":\n",
    "        result = num1 * num2\n",
    "    elif operator == \"/\":\n",
    "        result = num1 / num2\n",
    "    else:\n",
    "        print(\"Invalid operator. Please use +, -, *, /.\")\n",
    "        return\n",
    "\n",
    "    print(\"Result:\",result)\n",
    "calculator()"
   ]
  },
  {
   "cell_type": "code",
   "execution_count": null,
   "id": "4af35ebd-eeb6-4a31-aada-7051b9ca76e8",
   "metadata": {},
   "outputs": [],
   "source": []
  },
  {
   "cell_type": "code",
   "execution_count": null,
   "id": "81f27ed6-0902-46b8-9b6a-544cff951d12",
   "metadata": {},
   "outputs": [],
   "source": []
  }
 ],
 "metadata": {
  "kernelspec": {
   "display_name": "Python 3 (ipykernel)",
   "language": "python",
   "name": "python3"
  },
  "language_info": {
   "codemirror_mode": {
    "name": "ipython",
    "version": 3
   },
   "file_extension": ".py",
   "mimetype": "text/x-python",
   "name": "python",
   "nbconvert_exporter": "python",
   "pygments_lexer": "ipython3",
   "version": "3.12.0"
  }
 },
 "nbformat": 4,
 "nbformat_minor": 5
}
