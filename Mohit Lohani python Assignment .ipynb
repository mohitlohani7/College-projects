{
 "cells": [
  {
   "cell_type": "code",
   "execution_count": null,
   "id": "d6ceb2ba-5258-46c0-88d2-e86ad6ed86c1",
   "metadata": {},
   "outputs": [
    {
     "name": "stdin",
     "output_type": "stream",
     "text": [
      "Enter your name:  Mohit Lohani\n"
     ]
    }
   ],
   "source": [
    "#Write a program that takes the user's name and pan card number as input. Validate the information using isX function and print the details.\n",
    "import re  \n",
    "\n",
    "def is_valid_pan(pan):  \n",
    "    # PAN should be in the format: 5 uppercase letters, 4 digits, 1 uppercase letter  \n",
    "    pattern = r'^[A-Z]{5}[0-9]{4}[A-Z]$'  \n",
    "    return re.match(pattern, pan) is not None  \n",
    "\n",
    "def main():  \n",
    "    name = input(\"Enter your name: \")  \n",
    "    pan_card_number = input(\"Enter your PAN card number: \")  \n",
    "\n",
    "    if is_valid_pan(pan_card_number):  \n",
    "        print(\"Details:\")  \n",
    "        print(f\"Name: {name}\")  \n",
    "        print(f\"PAN Card Number: {pan_card_number}\")  \n",
    "    else:  \n",
    "        print(\"Invalid PAN card number. Please enter a valid PAN.\")  \n",
    "\n",
    "if __name__ == \"__main__\":  \n",
    "    main()"
   ]
  },
  {
   "cell_type": "code",
   "execution_count": 5,
   "id": "78fe3502-9a00-422c-9e30-b8d368b27e1a",
   "metadata": {},
   "outputs": [
    {
     "name": "stdout",
     "output_type": "stream",
     "text": [
      "['a', 'ab', 'abc', 'abcd', 'abcde', 'abcdef', 'abcdefg', 'abcdefgh', 'abcdefghi', 'abcdefghij', 'abcdefghijk', 'abcdefghijkl', 'abcdefghijklm', 'abcdefghijklmn', 'abcdefghijklmno', 'abcdefghijklmnop', 'abcdefghijklmnopq', 'abcdefghijklmnopqr', 'abcdefghijklmnopqrs', 'abcdefghijklmnopqrst', 'abcdefghijklmnopqrstu', 'abcdefghijklmnopqrstuv', 'abcdefghijklmnopqrstuvw', 'abcdefghijklmnopqrstuvwx', 'abcdefghijklmnopqrstuvwxy', 'abcdefghijklmnopqrstuvwxyz']\n"
     ]
    }
   ],
   "source": [
    "#Write a program to generate an Abecedarian series. (a series in which elements appears in an alphabetical order)\n",
    "def generate_abecedarian_series(n):  \n",
    "    # List of letters in alphabetical order  \n",
    "    alphabet = 'abcdefghijklmnopqrstuvwxyz'  \n",
    "    \n",
    "    # Generate the series  \n",
    "    abecedarian_series = []  \n",
    "    for i in range(n):  \n",
    "        # Create a string with the first (i+1) letters of the alphabet  \n",
    "        abecedarian_series.append(alphabet[:i + 1])  \n",
    "    \n",
    "    return abecedarian_series  \n",
    "\n",
    "# Example usage  \n",
    "n = 26  # Generate first 26 elements  \n",
    "series = generate_abecedarian_series(n)  \n",
    "print(series)"
   ]
  },
  {
   "cell_type": "code",
   "execution_count": 8,
   "id": "7dc646a0-6640-45c9-a0d9-1a096e6c4048",
   "metadata": {},
   "outputs": [
    {
     "name": "stdout",
     "output_type": "stream",
     "text": [
      "The character 'o' occurs 2 times in the string.\n"
     ]
    }
   ],
   "source": [
    "#Write a program that counts the occurrences of a character in a string. Do not use built in functions.\n",
    "def count_character_occurrences(input_string, target_char):  \n",
    "    count = 0  \n",
    "    for char in input_string:  \n",
    "        if char == target_char:  \n",
    "            count += 1  \n",
    "    return count  \n",
    "\n",
    "# Example usage  \n",
    "string = \"hello world\"  \n",
    "character = \"o\"  \n",
    "result = count_character_occurrences(string, character)  \n",
    "print(f\"The character '{character}' occurs {result} times in the string.\")"
   ]
  },
  {
   "cell_type": "code",
   "execution_count": 9,
   "id": "d01e5160-840a-4c9b-81a4-9119b4d80f99",
   "metadata": {},
   "outputs": [
    {
     "name": "stdout",
     "output_type": "stream",
     "text": [
      "6\n"
     ]
    }
   ],
   "source": [
    "#Write a function that takes a list of words and returns the length of the longest one.\n",
    "def longest_word_length(words):  \n",
    "    if not words:  \n",
    "        return 0  \n",
    "    return max(len(word) for word in words)  \n",
    "\n",
    "# Example usage:  \n",
    "words_list = [\"apple\", \"banana\", \"cherry\", \"date\"]  \n",
    "print(longest_word_length(words_list))  # Output: 6"
   ]
  },
  {
   "cell_type": "code",
   "execution_count": 11,
   "id": "041bd682-d8bc-411e-ae74-78333d5505d3",
   "metadata": {},
   "outputs": [
    {
     "name": "stdout",
     "output_type": "stream",
     "text": [
      "abc\n"
     ]
    }
   ],
   "source": [
    "#Write a function to get the first half of half of a specified string of even length.\n",
    "def first_half_of_half(s):  \n",
    "    if len(s) % 2 != 0:  \n",
    "        raise ValueError(\"The string must have an even length.\")  \n",
    "    \n",
    "    half_length = len(s) // 2  \n",
    "    first_half_of_half_length = half_length // 2  \n",
    "\n",
    "    return s[:first_half_of_half_length]  \n",
    "\n",
    "# Example usage:  \n",
    "result = first_half_of_half(\"abcdefghijkl\")  \n",
    "print(result)  # Output: 'abc'"
   ]
  },
  {
   "cell_type": "code",
   "execution_count": 14,
   "id": "7d72c6db-c3b3-47a5-8930-b6b5704213e6",
   "metadata": {},
   "outputs": [
    {
     "name": "stdin",
     "output_type": "stream",
     "text": [
      "Enter the first string:  Nime\n",
      "Enter the second string:  Nalanshu\n"
     ]
    },
    {
     "name": "stdout",
     "output_type": "stream",
     "text": [
      "Name Nilanshu\n"
     ]
    }
   ],
   "source": [
    "#Write a program to get a single string from two given strings separated by a space and swap the first two characters of each string.\n",
    "def swap_and_concatenate(str1, str2):  \n",
    "    # Swap the first two characters of each string  \n",
    "    if len(str1) < 2 or len(str2) < 2:  \n",
    "        return \"Both strings must have at least 2 characters.\"  \n",
    "    \n",
    "    swapped_str1 = str2[:2] + str1[2:]  \n",
    "    swapped_str2 = str1[:2] + str2[2:]  \n",
    "    \n",
    "    # Concatenate the swapped strings with a space  \n",
    "    result = swapped_str1 + \" \" + swapped_str2  \n",
    "    return result  \n",
    "\n",
    "# Example usage  \n",
    "string1 = input(\"Enter the first string: \")  \n",
    "string2 = input(\"Enter the second string: \")  \n",
    "\n",
    "output = swap_and_concatenate(string1, string2)  \n",
    "print(output)"
   ]
  },
  {
   "cell_type": "code",
   "execution_count": 18,
   "id": "69316b73-92a6-4dab-af43-8fd7bd5dadfe",
   "metadata": {},
   "outputs": [
    {
     "name": "stdout",
     "output_type": "stream",
     "text": [
      "2\n",
      "6\n",
      "1\n",
      "5\n"
     ]
    }
   ],
   "source": [
    "#Write a program to print floating point numbers with no decimal places.\n",
    "def print_floating_points(numbers):  \n",
    "    for number in numbers:  \n",
    "        print(int(number))  \n",
    "\n",
    "# Example usage  \n",
    "floating_points = [2.14, 6.71, 1.99, 5.56]  \n",
    "print_floating_points(floating_points)"
   ]
  },
  {
   "cell_type": "code",
   "execution_count": null,
   "id": "5fbe044b-945b-4614-a6ed-9f55697156e9",
   "metadata": {},
   "outputs": [],
   "source": []
  }
 ],
 "metadata": {
  "kernelspec": {
   "display_name": "Python 3 (ipykernel)",
   "language": "python",
   "name": "python3"
  },
  "language_info": {
   "codemirror_mode": {
    "name": "ipython",
    "version": 3
   },
   "file_extension": ".py",
   "mimetype": "text/x-python",
   "name": "python",
   "nbconvert_exporter": "python",
   "pygments_lexer": "ipython3",
   "version": "3.12.2"
  }
 },
 "nbformat": 4,
 "nbformat_minor": 5
}
