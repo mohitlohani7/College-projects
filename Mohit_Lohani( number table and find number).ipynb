{
 "cells": [
  {
   "cell_type": "code",
   "execution_count": 2,
   "id": "e2bee5b9-7a9e-4efd-8fac-00dc3c68f061",
   "metadata": {},
   "outputs": [
    {
     "name": "stdin",
     "output_type": "stream",
     "text": [
      "Enter a number:  45\n"
     ]
    },
    {
     "name": "stdout",
     "output_type": "stream",
     "text": [
      "The first 10 multiples of 45 are: [45, 90, 135, 180, 225, 270, 315, 360, 405, 450]\n"
     ]
    }
   ],
   "source": [
    "number = int(input(\"Enter a number: \"))\n",
    "multiples = [number * i for i in range(1, 11)]\n",
    "print(\"The first 10 multiples of\", number, \"are:\", multiples)"
   ]
  },
  {
   "cell_type": "code",
   "execution_count": 6,
   "id": "0d95d179-1b0c-4b7c-a864-cd046e04e37b",
   "metadata": {},
   "outputs": [
    {
     "name": "stdin",
     "output_type": "stream",
     "text": [
      "Enter the value to search for:  35\n"
     ]
    },
    {
     "name": "stdout",
     "output_type": "stream",
     "text": [
      "It is not present\n"
     ]
    }
   ],
   "source": [
    "t = int(input(\"Enter the value to search for: \"))\n",
    "\n",
    "def search(m):\n",
    "    if t in m:\n",
    "        print(\"It is present\")\n",
    "    else:\n",
    "        print(\"It is not present\")\n",
    "\n",
    "search(multiples)"
   ]
  },
  {
   "cell_type": "code",
   "execution_count": null,
   "id": "1e844d62-c070-4c19-90ac-51a13f08c474",
   "metadata": {},
   "outputs": [],
   "source": []
  }
 ],
 "metadata": {
  "kernelspec": {
   "display_name": "Python 3 (ipykernel)",
   "language": "python",
   "name": "python3"
  },
  "language_info": {
   "codemirror_mode": {
    "name": "ipython",
    "version": 3
   },
   "file_extension": ".py",
   "mimetype": "text/x-python",
   "name": "python",
   "nbconvert_exporter": "python",
   "pygments_lexer": "ipython3",
   "version": "3.12.0"
  }
 },
 "nbformat": 4,
 "nbformat_minor": 5
}
