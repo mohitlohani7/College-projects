{
 "cells": [
  {
   "cell_type": "code",
   "execution_count": 1,
   "id": "72b836a8-b0a3-4d20-961f-9580b0acf4c0",
   "metadata": {},
   "outputs": [
    {
     "name": "stdin",
     "output_type": "stream",
     "text": [
      "Enter the URL:  https://www.oreilly.com/member/login/\n"
     ]
    },
    {
     "name": "stdout",
     "output_type": "stream",
     "text": [
      "\n",
      "\n",
      "\n",
      "\n",
      "\n",
      "\n",
      "\n",
      "\n",
      "\n",
      "\n",
      "\n",
      "\n",
      "\n",
      "Sign In to O'Reilly\n",
      "\n",
      "\n",
      "\n",
      "\n",
      "\n",
      "\n",
      "\n",
      "\n",
      "\n",
      "\n",
      "\n",
      "\n",
      "\n",
      "Sign InEmail addressContinueDon't have an account? Start a free trialLooking for the Member's Library? Sign in here to access your ebook and video purchases.OrSign In with AppleSign In with GooglelinkedinSign In with LinkedInAbout O'ReillyTeach/write/trainCareersPress releasesMedia coverageCommunity partnersAffiliate programSubmit an RFPDiversityO’Reilly for marketersSupportContact usNewslettersPrivacy policyInternationalAustralia & New ZealandHong Kong & TaiwanIndiaIndonesiaJapanDownload the O'Reilly AppTake O'Reilly with you and learn anywhere, anytime on your phone and tablet.Watch on your big screenView all O'Reilly videos, Superstream events, and Meet the Expert sessions on your home TV.Do not sell my personal information© 2024, O'Reilly Media, Inc. All trademarks and registered trademarks appearing on oreilly.com are the property of their respective owners.Terms of Service•Privacy Policy•Editorial Independence•Modern Slavery Act Statement\n",
      "\n",
      "\n",
      "\n",
      "\n",
      "\n",
      "\n",
      "\n",
      "\n"
     ]
    }
   ],
   "source": [
    "#Q1.WAP that fetches data from a specific URL and print it on screen.\n",
    "import requests\n",
    "from bs4 import BeautifulSoup\n",
    "\n",
    "def fetch_data(url):\n",
    "    response = requests.get(url)\n",
    "    if response.status_code == 200:\n",
    "        soup = BeautifulSoup(response.content, 'lxml')\n",
    "        # Extract text from the HTML\n",
    "        text = soup.get_text()\n",
    "        print(text)\n",
    "    else:\n",
    "        print(f\"Failed to fetch data from {url}\")\n",
    "\n",
    "\n",
    "url = input(\"Enter the URL: \")\n",
    "fetch_data(url)\n"
   ]
  },
  {
   "cell_type": "code",
   "execution_count": 1,
   "id": "b8bb4eb4-dc5b-4a1b-ab77-8e93aa3cfd2b",
   "metadata": {},
   "outputs": [
    {
     "name": "stdout",
     "output_type": "stream",
     "text": [
      "Total size: 10527623894 bytes\n"
     ]
    }
   ],
   "source": [
    "#Q2.WAP that computes total size of all the files in your current directory folder.\n",
    "import os\n",
    "\n",
    "def get_total_size(directory):\n",
    "    total_size = 0\n",
    "    for dirpath, dirnames, filenames in os.walk(directory):\n",
    "        for f in filenames:\n",
    "            fp = os.path.join(dirpath, f)\n",
    "            if os.path.isfile(fp):\n",
    "                total_size += os.path.getsize(fp)\n",
    "    return total_size\n",
    "\n",
    "current_directory = os.getcwd()\n",
    "print(\"Total size:\", get_total_size(current_directory),\"bytes\")"
   ]
  },
  {
   "cell_type": "code",
   "execution_count": 2,
   "id": "90bea353-49e2-4152-996e-b6ebece049bd",
   "metadata": {},
   "outputs": [
    {
     "name": "stdout",
     "output_type": "stream",
     "text": [
      "Line numbers added successfully to output.txt\n"
     ]
    }
   ],
   "source": [
    "#Q3.WAP that reads a file line by line and each line read from the file is copied and to another file with line numbers specified at the beginning of the line.\n",
    "f = open(r\"H:\\hello world.txt\", \"r\")\n",
    "\n",
    "outfile = open(r\"H:\\Welcome to the world of python.txt\", \"w\")\n",
    "\n",
    "line_number = 1\n",
    "\n",
    "for line in f:\n",
    "    outfile.write(f\"{line_number}: {line}\")\n",
    "    line_number += 1\n",
    "\n",
    "f.close()\n",
    "outfile.close()\n",
    "\n",
    "print(\"Line numbers added successfully to output.txt\")\n"
   ]
  },
  {
   "cell_type": "code",
   "execution_count": 3,
   "id": "99b5d458-b290-4c6b-aea4-45190161ec75",
   "metadata": {},
   "outputs": [
    {
     "name": "stdout",
     "output_type": "stream",
     "text": [
      "Number of tabs: 0\n",
      "Number of spaces: 6\n",
      "Number of newlines: 0\n"
     ]
    }
   ],
   "source": [
    "#Q4.WAP that counts the number of tabs, spaces and newline characters in a file.\n",
    "file_path = r\"H:\\Welcome to the world of python.txt\" # Replace with your file path\n",
    "\n",
    "with open(file_path, \"r\") as file:\n",
    "        tab_count = 0\n",
    "        space_count = 0\n",
    "        newline_count = 0\n",
    "        \n",
    "        for line in file:\n",
    "            tab_count += line.count('\\t')  \n",
    "            space_count += line.count(' ') \n",
    "            newline_count += line.count('\\n')  \n",
    "        \n",
    "        print(f\"Number of tabs: {tab_count}\")\n",
    "        print(f\"Number of spaces: {space_count}\")\n",
    "        print(f\"Number of newlines: {newline_count}\")\n",
    "        "
   ]
  },
  {
   "cell_type": "code",
   "execution_count": 4,
   "id": "59e1cb03-709b-4595-9f39-91dc725857f4",
   "metadata": {},
   "outputs": [
    {
     "name": "stdout",
     "output_type": "stream",
     "text": [
      "Total Letters: 25\n",
      "Vowels: 8 (32.00%)\n",
      "Consonants: 17 (68.00%)\n"
     ]
    }
   ],
   "source": [
    "#Q5.WAP that reads data from the file and calculates the percentage of vowels and consonants in the file.\n",
    "\n",
    "def calculate_percentage(filename):  \n",
    "    vowels_count = 0  \n",
    "    consonants_count = 0  \n",
    "    total_letters = 0  \n",
    "    vowels = \"aeiouAEIOU\"  \n",
    "    with open(filename, 'r') as file:  \n",
    "        for line in file:  \n",
    "            for char in line:  \n",
    "                if char.isalpha():  \n",
    "                    total_letters += 1  \n",
    "                    if char in vowels:  \n",
    "                        vowels_count += 1  \n",
    "                    else:  \n",
    "                        consonants_count += 1  \n",
    "    if total_letters > 0:  \n",
    "        vowels_percentage = (vowels_count / total_letters) * 100  \n",
    "        consonants_percentage = (consonants_count / total_letters) * 100  \n",
    "    else:  \n",
    "        vowels_percentage = 0  \n",
    "        consonants_percentage = 0  \n",
    "\n",
    "    print(f\"Total Letters: {total_letters}\")\n",
    "    print(f\"Vowels: {vowels_count} ({vowels_percentage:.2f}%)\")  \n",
    "    print(f\"Consonants: {consonants_count} ({consonants_percentage:.2f}%)\")  \n",
    "calculate_percentage(r\"H:\\Welcome to the world of python.txt\")\n"
   ]
  },
  {
   "cell_type": "raw",
   "id": "2f17d7e5-c21b-45d2-b51a-3bf68a1b13bc",
   "metadata": {},
   "source": [
    "#Q6.What are different access modes in which you can open the file.\n",
    "Answer:\n",
    "What are different access modes in which you can open the file.\n",
    "In Python, you can open files in various modes depending on what you want to do with the file. Here are the different access modes you can use with the open() function:\n",
    "\n",
    "Read Mode\n",
    "'r': Read mode. Opens a file for reading only (default mode). The file pointer is placed at the beginning of the file. If the file does not exist, it raises an FileNotFoundError.\n",
    "\n",
    "Write Mode\n",
    "'w': Write mode. Opens a file for writing only. If the file exists, it truncates the file to zero length (i.e., deletes its contents). If the file does not exist, it creates a new file.\n",
    "\n",
    "Append Mode\n",
    "'a': Append mode. Opens a file for writing. The file pointer is at the end of the file if the file exists. That is, the file is in the append mode. If the file does not exist, it creates a new file.\n",
    "\n",
    "Read and Write Mode\n",
    "'r+': Read and write mode. Opens a file for both reading and writing. The file pointer is placed at the beginning of the file. If the file does not exist, it raises a FileNotFoundError.\n",
    "\n",
    "'w+': Write and read mode. Opens a file for both writing and reading. If the file exists, it truncates the file to zero length. If the file does not exist, it creates a new file.\n",
    "\n",
    "'a+': Append and read mode. Opens a file for both reading and writing. The file pointer is at the end of the file if the file exists. The file opens in the append mode. If the file does not exist, it creates a new file.\n",
    "\n",
    "Binary Mode\n",
    "'b': Binary mode. You can combine this with other modes to specify that a file should be treated as binary. For example:\n",
    "\n",
    "'rb': Read-only binary mode.\n",
    "\n",
    "'wb': Write-only binary mode.\n",
    "\n",
    "'ab': Append-only binary mode.\n",
    "\n",
    "'r+b': Read and write binary mode.\n",
    "\n",
    "'w+b': Write and read binary mode.\n",
    "\n",
    "'a+b': Append and read binary mode.\n",
    "\n",
    "Text Mode\n",
    "'t': Text mode (default mode). You can combine this with other modes to specify that a file should be treated as text. For example:\n",
    "\n",
    "'rt': Read-only text mode.\n",
    "\n",
    "'wt': Write-only text mode.\n",
    "\n",
    "'at': Append-only text mode.\n",
    "\n",
    "In most cases, text mode is the default when opening a file, so you don't need to specify 't' explicitly. However, binary mode can be important when dealing with non-text files like images or executables."
   ]
  },
  {
   "cell_type": "code",
   "execution_count": 5,
   "id": "1db449de-9bdf-4c45-a01f-e24c0d174920",
   "metadata": {},
   "outputs": [
    {
     "name": "stdout",
     "output_type": "stream",
     "text": [
      "hello world. This is a test. The number is [42] and [56]. Check [123].\n"
     ]
    }
   ],
   "source": [
    "#Q7.WAP that writes data to a file in such a way that each character after a full stop is capitalized and all the numbers are written in brackets.\n",
    "import re\n",
    "\n",
    "data = \"hello world. this is a test. the number is 42 and 56. check 123.\"\n",
    "\n",
    "data = re.sub(r'(\\.)(\\s*)([a-z])', lambda m: m.group(1) + m.group(2) + m.group(3).upper(), data)\n",
    "\n",
    "data = re.sub(r'(\\d+)', r'[\\1]', data)\n",
    "\n",
    "with open(r\"H:\\Welcome to the world of python.txt\", \"w\") as file:\n",
    "    file.write(data)\n",
    "\n",
    "print(data)\n"
   ]
  },
  {
   "cell_type": "code",
   "execution_count": 6,
   "id": "96f0e67b-5264-443d-8820-0f6b106857dd",
   "metadata": {},
   "outputs": [
    {
     "name": "stdout",
     "output_type": "stream",
     "text": [
      "Welcome to the world of python\n"
     ]
    }
   ],
   "source": [
    "#Q8.WAP that reads and copies the contents in another file. While copying replace all full stops with commas.\n",
    "# Define the source file path and destination file path\n",
    "source_file_path = r\"H:\\hello world.txt\"\n",
    "destination_file_path = r\"H:\\Welcome to the world of python.txt\"\n",
    "\n",
    "with open(source_file_path, \"r\") as source_file:\n",
    "    content = source_file.read()\n",
    "\n",
    "modified_content = content.replace(\".\", \",\")\n",
    "\n",
    "with open(destination_file_path, \"w\") as destination_file:\n",
    "    destination_file.write(modified_content)\n",
    "\n",
    "print(modified_content)\n"
   ]
  },
  {
   "cell_type": "code",
   "execution_count": null,
   "id": "86084a13-49dc-43a3-897a-a97e9fefec54",
   "metadata": {},
   "outputs": [],
   "source": []
  }
 ],
 "metadata": {
  "kernelspec": {
   "display_name": "Python 3 (ipykernel)",
   "language": "python",
   "name": "python3"
  },
  "language_info": {
   "codemirror_mode": {
    "name": "ipython",
    "version": 3
   },
   "file_extension": ".py",
   "mimetype": "text/x-python",
   "name": "python",
   "nbconvert_exporter": "python",
   "pygments_lexer": "ipython3",
   "version": "3.11.7"
  }
 },
 "nbformat": 4,
 "nbformat_minor": 5
}
