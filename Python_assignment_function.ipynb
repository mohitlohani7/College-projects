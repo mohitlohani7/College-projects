{
 "cells": [
  {
   "cell_type": "code",
   "execution_count": 16,
   "id": "d3bf8155-f25b-412c-ad14-fe4d8042995f",
   "metadata": {},
   "outputs": [
    {
     "name": "stdin",
     "output_type": "stream",
     "text": [
      "enter a number 44\n",
      "enter a number 22\n",
      "enter a number 99\n"
     ]
    },
    {
     "data": {
      "text/plain": [
       "99"
      ]
     },
     "execution_count": 16,
     "metadata": {},
     "output_type": "execute_result"
    }
   ],
   "source": [
    "#Q1 Write a program that finds greatest of three numbers using functions. Pass the numbers as arguments.\n",
    "num_1= int(input(\"enter a number\"))\n",
    "num_2= int(input(\"enter a number\"))\n",
    "num_3= int(input(\"enter a number\"))\n",
    "def find_greatest(num1, num2, num3):\n",
    "    if num1 >= num2 and num1 >= num3:\n",
    "        return num1\n",
    "    elif num2 >= num1 and num2 >= num3:\n",
    "        return num2\n",
    "    else:\n",
    "        return num3\n",
    "find_greatest(num_1, num_2, num_3)"
   ]
  },
  {
   "cell_type": "code",
   "execution_count": 17,
   "id": "d004a1c1-14b6-492e-b4cd-562666cfa588",
   "metadata": {},
   "outputs": [],
   "source": [
    "#Q2 Write a program to implement these formulae of permutations and combinations.\n",
    "#Number of permutations of n objects taken r at a time: p(n, r) = n! / (n-r)!.\n",
    "#Number of combinations of n objects taken r at a time is: c(n, r) = n! / (r!*(n-r)!) = p(n,r) / r!\"\"\"\n",
    "def factorial(n):  \n",
    "    if n == 0 or n == 1:  \n",
    "        return 1  \n",
    "    result = 1  \n",
    "    for i in range(2, n + 1):  \n",
    "        result *= i  \n",
    "    return result  \n"
   ]
  },
  {
   "cell_type": "code",
   "execution_count": 18,
   "id": "c8a13c5a-36c1-47f6-a1d8-2ff29dd685b0",
   "metadata": {},
   "outputs": [
    {
     "name": "stdout",
     "output_type": "stream",
     "text": [
      "Number of permutations of 5 objects taken 3 at a time: 60\n"
     ]
    }
   ],
   "source": [
    "\n",
    "def permutations(n, r):  \n",
    "    if r > n:  \n",
    "        return 0  # If r is greater than n, permutations are not possible  \n",
    "    return factorial(n) // factorial(n - r)   \n",
    "n = 5  \n",
    "r = 3  \n",
    "print(f\"Number of permutations of {n} objects taken {r} at a time: {permutations(n, r)}\")"
   ]
  },
  {
   "cell_type": "code",
   "execution_count": 19,
   "id": "4c36923e-3808-4c0e-a304-358452f5b07f",
   "metadata": {},
   "outputs": [],
   "source": [
    "def combinations(n, r):  \n",
    "    if r > n:  \n",
    "        return 0  \n",
    "    return factorial(n) // (factorial(r) * factorial(n - r))  "
   ]
  },
  {
   "cell_type": "code",
   "execution_count": 20,
   "id": "6b8b0c49-d3c9-4154-94f5-9c1f1e1fe9a0",
   "metadata": {},
   "outputs": [
    {
     "data": {
      "text/plain": [
       "10"
      ]
     },
     "execution_count": 20,
     "metadata": {},
     "output_type": "execute_result"
    }
   ],
   "source": [
    "combinations(5,3)"
   ]
  },
  {
   "cell_type": "code",
   "execution_count": 2,
   "id": "dcbe59fa-17df-4984-ba42-96388bf06fbf",
   "metadata": {},
   "outputs": [],
   "source": [
    "#Q3 Write a function cubesum() that accepts an integer and returns the sum of the cubes of individual digits of that number.\n",
    "#Use this function to make functions PrintArmstrong() and isArmstrong() to print Armstrong numbers \n",
    "#and to find whether is an Armstrong number.\n",
    "def cubesum(n):\n",
    "    total = 0\n",
    "    while n > 0:\n",
    "        digit = n % 10\n",
    "        total += digit ** 3\n",
    "        n //= 10\n",
    "        return total\n",
    "\n",
    "def isArmstrong(n):\n",
    "    return n == cubesum(n)\n",
    "\n",
    "def PrintArmstrong(limit):\n",
    "    print(\"Armstrong numbers up to\", limit, \":\")\n",
    "    for num in range(limit + 1):\n",
    "        if isArmstrong(num):\n",
    "            print(num)"
   ]
  },
  {
   "cell_type": "code",
   "execution_count": 3,
   "id": "9a814747-f525-455b-90fd-cdd62dfd89a1",
   "metadata": {},
   "outputs": [
    {
     "name": "stdout",
     "output_type": "stream",
     "text": [
      "Armstrong numbers up to 1000 :\n",
      "1\n",
      "64\n",
      "125\n",
      "216\n",
      "729\n"
     ]
    }
   ],
   "source": [
    "limit = 1000\n",
    "PrintArmstrong(limit)"
   ]
  },
  {
   "cell_type": "code",
   "execution_count": 4,
   "id": "9e996b71-3977-4fee-80fc-c2a69e198e96",
   "metadata": {},
   "outputs": [
    {
     "name": "stdout",
     "output_type": "stream",
     "text": [
      "[1, 4, 9, 16, 25, 36, 49, 64, 81, 100, 121, 144, 169, 196, 225, 256, 289, 324, 361, 400, 441, 484, 529, 576, 625, 676, 729, 784, 841, 900]\n"
     ]
    }
   ],
   "source": [
    "#Q4 Write a Python function to create and print a list where the values are the squares of numbers between 1 and 30 (both included).\n",
    "def squares_list():  \n",
    "    squares = []  # Initialize an empty list to store the squares  \n",
    "    for number in range(1, 31):  # Iterate through numbers from 1 to 30 (inclusive)  \n",
    "        squares.append(number ** 2)  # Append the square of the number to the list  \n",
    "    print(squares)  # Print the list of squares  \n",
    "\n",
    "# Call the function to execute  \n",
    "squares_list()"
   ]
  },
  {
   "cell_type": "code",
   "execution_count": 5,
   "id": "b8a1276c-f4a6-459b-99ae-96dcb8eea466",
   "metadata": {},
   "outputs": [],
   "source": [
    "#Q5 Given a string s = “1234” and an integer n = 5678, concatenate them as a single string and then convert the result back to an integer. What is the final integer value?\n",
    "def concatenate_and_convert(s, n):\n",
    "    concatenated_string = s + str(n)\n",
    "    final_integer = int(concatenated_string)\n",
    "    return final_integer"
   ]
  },
  {
   "cell_type": "code",
   "execution_count": 6,
   "id": "95b1974a-8538-444a-a716-f4ccaf4e5ebb",
   "metadata": {},
   "outputs": [
    {
     "data": {
      "text/plain": [
       "12345678"
      ]
     },
     "execution_count": 6,
     "metadata": {},
     "output_type": "execute_result"
    }
   ],
   "source": [
    "s = \"1234\"\n",
    "n = 5678\n",
    "result = concatenate_and_convert(s, n)\n",
    "result"
   ]
  },
  {
   "cell_type": "code",
   "execution_count": 7,
   "id": "6764f6c8-a343-48e3-894f-24b12a6bb6a4",
   "metadata": {},
   "outputs": [],
   "source": [
    "#Q6 Write a Python program that repeatedly asks the user to enter a positive integer. If the user enters a negative number or zero, the program should ask again until a positive integer is entered.\n",
    "def get_positive_integer():\n",
    "    while True:\n",
    "        try:\n",
    "            user_input = int(input(\"Please enter a positive integer: \"))\n",
    "            if user_input > 0:\n",
    "                return user_input\n",
    "            else:\n",
    "                print(\"That's not a positive integer. Please try again.\")\n",
    "        except ValueError:\n",
    "            print(\"Invalid input. Please enter a positive integer.\")"
   ]
  },
  {
   "cell_type": "code",
   "execution_count": 9,
   "id": "ec890444-be0a-412e-b669-89b2dbfe08f8",
   "metadata": {},
   "outputs": [
    {
     "name": "stdin",
     "output_type": "stream",
     "text": [
      "Please enter a positive integer:  -2\n"
     ]
    },
    {
     "name": "stdout",
     "output_type": "stream",
     "text": [
      "That's not a positive integer. Please try again.\n"
     ]
    },
    {
     "name": "stdin",
     "output_type": "stream",
     "text": [
      "Please enter a positive integer:  -3\n"
     ]
    },
    {
     "name": "stdout",
     "output_type": "stream",
     "text": [
      "That's not a positive integer. Please try again.\n"
     ]
    },
    {
     "name": "stdin",
     "output_type": "stream",
     "text": [
      "Please enter a positive integer:  -100\n"
     ]
    },
    {
     "name": "stdout",
     "output_type": "stream",
     "text": [
      "That's not a positive integer. Please try again.\n"
     ]
    },
    {
     "name": "stdin",
     "output_type": "stream",
     "text": [
      "Please enter a positive integer:  0\n"
     ]
    },
    {
     "name": "stdout",
     "output_type": "stream",
     "text": [
      "That's not a positive integer. Please try again.\n"
     ]
    },
    {
     "name": "stdin",
     "output_type": "stream",
     "text": [
      "Please enter a positive integer:  1\n"
     ]
    },
    {
     "name": "stdout",
     "output_type": "stream",
     "text": [
      "You entered: 1\n"
     ]
    }
   ],
   "source": [
    "positive_integer = get_positive_integer()\n",
    "print(\"You entered:\", positive_integer)"
   ]
  },
  {
   "cell_type": "code",
   "execution_count": null,
   "id": "e0627f6b-70df-490a-b248-9422b8ccda27",
   "metadata": {},
   "outputs": [],
   "source": []
  }
 ],
 "metadata": {
  "kernelspec": {
   "display_name": "Python 3 (ipykernel)",
   "language": "python",
   "name": "python3"
  },
  "language_info": {
   "codemirror_mode": {
    "name": "ipython",
    "version": 3
   },
   "file_extension": ".py",
   "mimetype": "text/x-python",
   "name": "python",
   "nbconvert_exporter": "python",
   "pygments_lexer": "ipython3",
   "version": "3.11.7"
  }
 },
 "nbformat": 4,
 "nbformat_minor": 5
}
